{
 "cells": [
  {
   "cell_type": "markdown",
   "metadata": {},
   "source": [
    "## Importing python modules"
   ]
  },
  {
   "cell_type": "code",
   "execution_count": 67,
   "metadata": {
    "collapsed": true
   },
   "outputs": [],
   "source": [
    "import pandas as pd\n",
    "import numpy as np\n",
    "import datetime as dt\n",
    "import os\n",
    "import sklearn\n",
    "from sklearn.preprocessing import StandardScaler\n",
    "import matplotlib.pyplot as plt\n",
    "%matplotlib inline\n",
    "import seaborn as sns; sns.set()\n",
    "from sklearn.cluster import KMeans"
   ]
  },
  {
   "cell_type": "code",
   "execution_count": 18,
   "metadata": {
    "collapsed": true
   },
   "outputs": [],
   "source": [
    "df = pd.read_csv(\"C:/Users/abhishekchaudhary/Customer-Segmentation/chapter_4/datamart_rfm.csv\")"
   ]
  },
  {
   "cell_type": "code",
   "execution_count": 19,
   "metadata": {},
   "outputs": [
    {
     "data": {
      "text/html": [
       "<div>\n",
       "<style>\n",
       "    .dataframe thead tr:only-child th {\n",
       "        text-align: right;\n",
       "    }\n",
       "\n",
       "    .dataframe thead th {\n",
       "        text-align: left;\n",
       "    }\n",
       "\n",
       "    .dataframe tbody tr th {\n",
       "        vertical-align: top;\n",
       "    }\n",
       "</style>\n",
       "<table border=\"1\" class=\"dataframe\">\n",
       "  <thead>\n",
       "    <tr style=\"text-align: right;\">\n",
       "      <th></th>\n",
       "      <th>CustomerID</th>\n",
       "      <th>Recency</th>\n",
       "      <th>Frequency</th>\n",
       "      <th>MonetaryValue</th>\n",
       "    </tr>\n",
       "  </thead>\n",
       "  <tbody>\n",
       "    <tr>\n",
       "      <th>0</th>\n",
       "      <td>12747</td>\n",
       "      <td>3</td>\n",
       "      <td>25</td>\n",
       "      <td>948.70</td>\n",
       "    </tr>\n",
       "    <tr>\n",
       "      <th>1</th>\n",
       "      <td>12748</td>\n",
       "      <td>1</td>\n",
       "      <td>888</td>\n",
       "      <td>7046.16</td>\n",
       "    </tr>\n",
       "    <tr>\n",
       "      <th>2</th>\n",
       "      <td>12749</td>\n",
       "      <td>4</td>\n",
       "      <td>37</td>\n",
       "      <td>813.45</td>\n",
       "    </tr>\n",
       "    <tr>\n",
       "      <th>3</th>\n",
       "      <td>12820</td>\n",
       "      <td>4</td>\n",
       "      <td>17</td>\n",
       "      <td>268.02</td>\n",
       "    </tr>\n",
       "    <tr>\n",
       "      <th>4</th>\n",
       "      <td>12822</td>\n",
       "      <td>71</td>\n",
       "      <td>9</td>\n",
       "      <td>146.15</td>\n",
       "    </tr>\n",
       "  </tbody>\n",
       "</table>\n",
       "</div>"
      ],
      "text/plain": [
       "   CustomerID  Recency  Frequency  MonetaryValue\n",
       "0       12747        3         25         948.70\n",
       "1       12748        1        888        7046.16\n",
       "2       12749        4         37         813.45\n",
       "3       12820        4         17         268.02\n",
       "4       12822       71          9         146.15"
      ]
     },
     "execution_count": 19,
     "metadata": {},
     "output_type": "execute_result"
    }
   ],
   "source": [
    "df.head()"
   ]
  },
  {
   "cell_type": "markdown",
   "metadata": {},
   "source": [
    "## Calculating the statistics of Variable\n",
    "\n",
    "You will now calculate average and standard deviation values for the variables, and also print key statistics of the dataset.\n",
    "\n",
    "You can use the console to explore the dataset."
   ]
  },
  {
   "cell_type": "code",
   "execution_count": 20,
   "metadata": {},
   "outputs": [
    {
     "name": "stdout",
     "output_type": "stream",
     "text": [
      "Mean of the dataset: \n",
      " CustomerID       15551.620642\n",
      "Recency             90.435630\n",
      "Frequency           18.714247\n",
      "MonetaryValue      370.694387\n",
      "dtype: float64\n",
      "Standard Deviation of the dataset: \n",
      " CustomerID       1562.587958\n",
      "Recency            94.446510\n",
      "Frequency          43.754468\n",
      "MonetaryValue    1347.443451\n",
      "dtype: float64\n",
      "Key statistics of data: \n",
      "          CustomerID     Recency    Frequency  MonetaryValue\n",
      "count   3643.000000  3643.00000  3643.000000    3643.000000\n",
      "mean   15551.620642    90.43563    18.714247     370.694387\n",
      "std     1562.587958    94.44651    43.754468    1347.443451\n",
      "min    12747.000000     1.00000     1.000000       0.650000\n",
      "25%    14209.500000    19.00000     4.000000      58.705000\n",
      "50%    15557.000000    51.00000     9.000000     136.370000\n",
      "75%    16890.000000   139.00000    21.000000     334.350000\n",
      "max    18287.000000   365.00000  1497.000000   48060.350000\n"
     ]
    }
   ],
   "source": [
    "# Print the average values of the variables in the dataset\n",
    "print(\"Mean of the dataset: \\n\",df.mean())\n",
    "\n",
    "# Print the standard deviation of the variables in the dataset\n",
    "print(\"Standard Deviation of the dataset: \\n\",df.std())\n",
    "\n",
    "# Get the key statistics of the dataset\n",
    "print(\"Key statistics of data: \\n\",df.describe())"
   ]
  },
  {
   "cell_type": "markdown",
   "metadata": {},
   "source": [
    "## Detect skewed variables\n",
    "\n",
    "We have created a dataset called data for you with three variables: var1, var2 and var3. You will now explore their distributions.\n",
    "\n",
    "The plt.subplot(...) call before the seaborn function call allows you to plot several subplots in one chart, you do not have to change it.\n",
    "\n",
    "Libraries seaborn and matplotlib.pyplot have been loaded as sns and plt respectively. Feel free to explore the dataset in the console."
   ]
  },
  {
   "cell_type": "code",
   "execution_count": 87,
   "metadata": {},
   "outputs": [
    {
     "data": {
      "image/png": "[encoded data removed]",
      "text/plain": [
       "<matplotlib.figure.Figure at 0x19623698f98>"
      ]
     },
     "metadata": {},
     "output_type": "display_data"
    }
   ],
   "source": [
    "# Figure size\n",
    "plt.figure(figsize=(10,7))\n",
    "# Plot distribution of var1\n",
    "plt.subplot(3, 1, 1); sns.distplot(df['Frequency'])\n",
    "\n",
    "# Plot distribution of var2\n",
    "plt.subplot(3, 1, 2); sns.distplot(df['Recency'])\n",
    "\n",
    "# Plot distribution of var3\n",
    "plt.subplot(3, 1, 3); sns.distplot(df['MonetaryValue'])\n",
    "\n",
    "# Show the plot\n",
    "plt.show()"
   ]
  },
  {
   "cell_type": "markdown",
   "metadata": {},
   "source": [
    "## Manage skewness\n",
    "\n",
    "Now your goal will be to remove skewness from var2 and var3 as they had a non-symmetric distribution as you've seen in the previous exercise plot. You will visualize them to make sure the problem is solved!"
   ]
  },
  {
   "cell_type": "code",
   "execution_count": 22,
   "metadata": {},
   "outputs": [
    {
     "data": {
      "image/png": "[encoded data removed]",
      "text/plain": [
       "<matplotlib.figure.Figure at 0x19623607710>"
      ]
     },
     "metadata": {},
     "output_type": "display_data"
    }
   ],
   "source": [
    "# Apply log transformation to var2\n",
    "df['var2_log'] = np.log(df['Frequency'])\n",
    "\n",
    "# Apply log transformation to var3\n",
    "df['var3_log'] = np.log(df['MonetaryValue'])\n",
    "\n",
    "# Create a subplot of the distribution of var2_log\n",
    "plt.subplot(2, 1, 1); sns.distplot(df['var2_log'])\n",
    "\n",
    "# Create a subplot of the distribution of var3_log\n",
    "plt.subplot(2, 1, 2); sns.distplot(df['var3_log'])\n",
    "\n",
    "# Show the plot\n",
    "plt.show()"
   ]
  },
  {
   "cell_type": "code",
   "execution_count": 89,
   "metadata": {},
   "outputs": [],
   "source": [
    "df1 = df.drop('CustomerID',axis=1, inplace= True)"
   ]
  },
  {
   "cell_type": "code",
   "execution_count": 90,
   "metadata": {},
   "outputs": [
    {
     "data": {
      "text/html": [
       "<div>\n",
       "<style>\n",
       "    .dataframe thead tr:only-child th {\n",
       "        text-align: right;\n",
       "    }\n",
       "\n",
       "    .dataframe thead th {\n",
       "        text-align: left;\n",
       "    }\n",
       "\n",
       "    .dataframe tbody tr th {\n",
       "        vertical-align: top;\n",
       "    }\n",
       "</style>\n",
       "<table border=\"1\" class=\"dataframe\">\n",
       "  <thead>\n",
       "    <tr style=\"text-align: right;\">\n",
       "      <th></th>\n",
       "      <th>Recency</th>\n",
       "      <th>Frequency</th>\n",
       "      <th>MonetaryValue</th>\n",
       "    </tr>\n",
       "  </thead>\n",
       "  <tbody>\n",
       "    <tr>\n",
       "      <th>count</th>\n",
       "      <td>3643.00</td>\n",
       "      <td>3643.00</td>\n",
       "      <td>3643.00</td>\n",
       "    </tr>\n",
       "    <tr>\n",
       "      <th>mean</th>\n",
       "      <td>0.00</td>\n",
       "      <td>-0.00</td>\n",
       "      <td>0.00</td>\n",
       "    </tr>\n",
       "    <tr>\n",
       "      <th>std</th>\n",
       "      <td>94.45</td>\n",
       "      <td>43.75</td>\n",
       "      <td>1347.44</td>\n",
       "    </tr>\n",
       "    <tr>\n",
       "      <th>min</th>\n",
       "      <td>-89.44</td>\n",
       "      <td>-17.71</td>\n",
       "      <td>-370.04</td>\n",
       "    </tr>\n",
       "    <tr>\n",
       "      <th>25%</th>\n",
       "      <td>-71.44</td>\n",
       "      <td>-14.71</td>\n",
       "      <td>-311.99</td>\n",
       "    </tr>\n",
       "    <tr>\n",
       "      <th>50%</th>\n",
       "      <td>-39.44</td>\n",
       "      <td>-9.71</td>\n",
       "      <td>-234.32</td>\n",
       "    </tr>\n",
       "    <tr>\n",
       "      <th>75%</th>\n",
       "      <td>48.56</td>\n",
       "      <td>2.29</td>\n",
       "      <td>-36.34</td>\n",
       "    </tr>\n",
       "    <tr>\n",
       "      <th>max</th>\n",
       "      <td>274.56</td>\n",
       "      <td>1478.29</td>\n",
       "      <td>47689.66</td>\n",
       "    </tr>\n",
       "  </tbody>\n",
       "</table>\n",
       "</div>"
      ],
      "text/plain": [
       "       Recency  Frequency  MonetaryValue\n",
       "count  3643.00    3643.00        3643.00\n",
       "mean      0.00      -0.00           0.00\n",
       "std      94.45      43.75        1347.44\n",
       "min     -89.44     -17.71        -370.04\n",
       "25%     -71.44     -14.71        -311.99\n",
       "50%     -39.44      -9.71        -234.32\n",
       "75%      48.56       2.29         -36.34\n",
       "max     274.56    1478.29       47689.66"
      ]
     },
     "execution_count": 90,
     "metadata": {},
     "output_type": "execute_result"
    }
   ],
   "source": [
    "# Centering variables with diffrent means\n",
    "# K-means works well on variables with the same mean\n",
    "# Centering variables is done by subtracting average value from each observation\n",
    "\n",
    "datamart_centered = df - df.mean()\n",
    "datamart_centered.describe().round(2)"
   ]
  },
  {
   "cell_type": "markdown",
   "metadata": {},
   "source": [
    "## Scaling Varibales with different variance"
   ]
  },
  {
   "cell_type": "code",
   "execution_count": 91,
   "metadata": {},
   "outputs": [
    {
     "data": {
      "text/html": [
       "<div>\n",
       "<style>\n",
       "    .dataframe thead tr:only-child th {\n",
       "        text-align: right;\n",
       "    }\n",
       "\n",
       "    .dataframe thead th {\n",
       "        text-align: left;\n",
       "    }\n",
       "\n",
       "    .dataframe tbody tr th {\n",
       "        vertical-align: top;\n",
       "    }\n",
       "</style>\n",
       "<table border=\"1\" class=\"dataframe\">\n",
       "  <thead>\n",
       "    <tr style=\"text-align: right;\">\n",
       "      <th></th>\n",
       "      <th>Recency</th>\n",
       "      <th>Frequency</th>\n",
       "      <th>MonetaryValue</th>\n",
       "    </tr>\n",
       "  </thead>\n",
       "  <tbody>\n",
       "    <tr>\n",
       "      <th>count</th>\n",
       "      <td>3643.00</td>\n",
       "      <td>3643.00</td>\n",
       "      <td>3643.00</td>\n",
       "    </tr>\n",
       "    <tr>\n",
       "      <th>mean</th>\n",
       "      <td>0.96</td>\n",
       "      <td>0.43</td>\n",
       "      <td>0.28</td>\n",
       "    </tr>\n",
       "    <tr>\n",
       "      <th>std</th>\n",
       "      <td>1.00</td>\n",
       "      <td>1.00</td>\n",
       "      <td>1.00</td>\n",
       "    </tr>\n",
       "    <tr>\n",
       "      <th>min</th>\n",
       "      <td>0.01</td>\n",
       "      <td>0.02</td>\n",
       "      <td>0.00</td>\n",
       "    </tr>\n",
       "    <tr>\n",
       "      <th>25%</th>\n",
       "      <td>0.20</td>\n",
       "      <td>0.09</td>\n",
       "      <td>0.04</td>\n",
       "    </tr>\n",
       "    <tr>\n",
       "      <th>50%</th>\n",
       "      <td>0.54</td>\n",
       "      <td>0.21</td>\n",
       "      <td>0.10</td>\n",
       "    </tr>\n",
       "    <tr>\n",
       "      <th>75%</th>\n",
       "      <td>1.47</td>\n",
       "      <td>0.48</td>\n",
       "      <td>0.25</td>\n",
       "    </tr>\n",
       "    <tr>\n",
       "      <th>max</th>\n",
       "      <td>3.86</td>\n",
       "      <td>34.21</td>\n",
       "      <td>35.67</td>\n",
       "    </tr>\n",
       "  </tbody>\n",
       "</table>\n",
       "</div>"
      ],
      "text/plain": [
       "       Recency  Frequency  MonetaryValue\n",
       "count  3643.00    3643.00        3643.00\n",
       "mean      0.96       0.43           0.28\n",
       "std       1.00       1.00           1.00\n",
       "min       0.01       0.02           0.00\n",
       "25%       0.20       0.09           0.04\n",
       "50%       0.54       0.21           0.10\n",
       "75%       1.47       0.48           0.25\n",
       "max       3.86      34.21          35.67"
      ]
     },
     "execution_count": 91,
     "metadata": {},
     "output_type": "execute_result"
    }
   ],
   "source": [
    "# K-means works better on variables with the same variance / standard deviation\n",
    "# Scaling variables is done by dividing them  by standard deviation of each\n",
    "datamart_scaled = df / df.std()\n",
    "datamart_scaled.describe().round(2)"
   ]
  },
  {
   "cell_type": "markdown",
   "metadata": {},
   "source": [
    "## Combining centering and scaling"
   ]
  },
  {
   "cell_type": "code",
   "execution_count": 92,
   "metadata": {},
   "outputs": [
    {
     "name": "stdout",
     "output_type": "stream",
     "text": [
      "mean:   [-0. -0.  0.]\n",
      "std:   [ 1.  1.  1.]\n"
     ]
    }
   ],
   "source": [
    "# Initialize a scaler\n",
    "scaler = StandardScaler()\n",
    "\n",
    "# Fit the scaler\n",
    "scaler.fit(df)\n",
    "\n",
    "# Scale and center the data\n",
    "datamart_normalized = scaler.transform(df)\n",
    "\n",
    "print('mean:  ', datamart_normalized.mean(axis=0).round(2))\n",
    "print('std:  ', datamart_normalized.std(axis=0).round(2))"
   ]
  },
  {
   "cell_type": "markdown",
   "metadata": {},
   "source": [
    "## Preprocessing Pipeline\n",
    "\n",
    "1. Unskew the data -log transform\n",
    "2. Standardize to the same average values\n",
    "3. Scale to the same standard deviation\n",
    "4. Store as a separate array to be used for clustering"
   ]
  },
  {
   "cell_type": "markdown",
   "metadata": {},
   "source": [
    "#### Visualizing RFM Distributions"
   ]
  },
  {
   "cell_type": "code",
   "execution_count": 93,
   "metadata": {},
   "outputs": [
    {
     "data": {
      "image/png": "[encoded data removed]",
      "text/plain": [
       "<matplotlib.figure.Figure at 0x19623417b00>"
      ]
     },
     "metadata": {},
     "output_type": "display_data"
    }
   ],
   "source": [
    "plt.figure(figsize=(10,7))\n",
    "# Plot recency distribution\n",
    "plt.subplot(3, 1, 1); sns.distplot(df['Recency'])\n",
    "\n",
    "# Plot frequency distribution\n",
    "plt.subplot(3, 1, 2); sns.distplot(df['Frequency'])\n",
    "\n",
    "# Plot monetary value distribution\n",
    "plt.subplot(3, 1, 3); sns.distplot(df['MonetaryValue'])\n",
    "\n",
    "# Show the plot\n",
    "plt.show()"
   ]
  },
  {
   "cell_type": "markdown",
   "metadata": {},
   "source": [
    "## Preprocess RFM Data"
   ]
  },
  {
   "cell_type": "code",
   "execution_count": 94,
   "metadata": {},
   "outputs": [],
   "source": [
    "# Unskew the data\n",
    "datamart_log = np.log(df)\n",
    "\n",
    "# Initialize a standard scaler and fit it\n",
    "scaler = StandardScaler()\n",
    "scaler.fit(datamart_log)\n",
    "\n",
    "# Scale and center the data\n",
    "datamart_normalized = scaler.transform(datamart_log)\n",
    "\n",
    "# Create a pandas DataFrame\n",
    "datamart_normalized = pd.DataFrame(data=datamart_normalized, index=df.index, columns=df.columns)\n"
   ]
  },
  {
   "cell_type": "markdown",
   "metadata": {},
   "source": [
    "## Visualize the normalized variables"
   ]
  },
  {
   "cell_type": "code",
   "execution_count": 95,
   "metadata": {},
   "outputs": [
    {
     "data": {
      "image/png": "[encoded data removed]",
      "text/plain": [
       "<matplotlib.figure.Figure at 0x19624087eb8>"
      ]
     },
     "metadata": {},
     "output_type": "display_data"
    }
   ],
   "source": [
    "plt.figure(figsize=(10,7))\n",
    "# Plot recency distribution\n",
    "plt.subplot(3, 1, 1); sns.distplot(datamart_normalized['Recency'])\n",
    "\n",
    "# Plot frequency distribution\n",
    "plt.subplot(3, 1, 2); sns.distplot(datamart_normalized['Frequency'])\n",
    "\n",
    "# Plot monetary value distribution\n",
    "plt.subplot(3, 1, 3); sns.distplot(datamart_normalized['MonetaryValue'])\n",
    "\n",
    "# Show the plot\n",
    "plt.show()"
   ]
  },
  {
   "cell_type": "code",
   "execution_count": 96,
   "metadata": {
    "collapsed": true
   },
   "outputs": [],
   "source": [
    "# Import KMeans \n",
    "from sklearn.cluster import KMeans\n",
    "\n",
    "# Initialize KMeans\n",
    "kmeans = KMeans(n_clusters=3, random_state=1) \n",
    "\n",
    "# Fit k-means clustering on the normalized data set\n",
    "kmeans.fit(datamart_normalized)\n",
    "\n",
    "# Extract cluster labels\n",
    "cluster_labels = kmeans.labels_"
   ]
  },
  {
   "cell_type": "markdown",
   "metadata": {},
   "source": [
    "## Assign labels to raw data\n",
    "\n",
    "You will now analyze the average RFM values of the three clusters you've created in the previous exercise. We have loaded the raw RFM dataset as datamart_rfm, and the cluster labels as cluster_labels. pandas is available as pd."
   ]
  },
  {
   "cell_type": "code",
   "execution_count": 97,
   "metadata": {},
   "outputs": [
    {
     "data": {
      "text/html": [
       "<div>\n",
       "<style>\n",
       "    .dataframe thead tr:only-child th {\n",
       "        text-align: right;\n",
       "    }\n",
       "\n",
       "    .dataframe thead th {\n",
       "        text-align: left;\n",
       "    }\n",
       "\n",
       "    .dataframe tbody tr th {\n",
       "        vertical-align: top;\n",
       "    }\n",
       "</style>\n",
       "<table border=\"1\" class=\"dataframe\">\n",
       "  <thead>\n",
       "    <tr>\n",
       "      <th></th>\n",
       "      <th>Recency</th>\n",
       "      <th>Frequency</th>\n",
       "      <th colspan=\"2\" halign=\"left\">MonetaryValue</th>\n",
       "    </tr>\n",
       "    <tr>\n",
       "      <th></th>\n",
       "      <th>mean</th>\n",
       "      <th>mean</th>\n",
       "      <th>mean</th>\n",
       "      <th>count</th>\n",
       "    </tr>\n",
       "    <tr>\n",
       "      <th>Cluster</th>\n",
       "      <th></th>\n",
       "      <th></th>\n",
       "      <th></th>\n",
       "      <th></th>\n",
       "    </tr>\n",
       "  </thead>\n",
       "  <tbody>\n",
       "    <tr>\n",
       "      <th>0</th>\n",
       "      <td>16.1</td>\n",
       "      <td>50.1</td>\n",
       "      <td>1050.6</td>\n",
       "      <td>901</td>\n",
       "    </tr>\n",
       "    <tr>\n",
       "      <th>1</th>\n",
       "      <td>166.6</td>\n",
       "      <td>3.0</td>\n",
       "      <td>53.0</td>\n",
       "      <td>1156</td>\n",
       "    </tr>\n",
       "    <tr>\n",
       "      <th>2</th>\n",
       "      <td>77.1</td>\n",
       "      <td>12.3</td>\n",
       "      <td>216.0</td>\n",
       "      <td>1586</td>\n",
       "    </tr>\n",
       "  </tbody>\n",
       "</table>\n",
       "</div>"
      ],
      "text/plain": [
       "        Recency Frequency MonetaryValue      \n",
       "           mean      mean          mean count\n",
       "Cluster                                      \n",
       "0          16.1      50.1        1050.6   901\n",
       "1         166.6       3.0          53.0  1156\n",
       "2          77.1      12.3         216.0  1586"
      ]
     },
     "execution_count": 97,
     "metadata": {},
     "output_type": "execute_result"
    }
   ],
   "source": [
    "# Create a DataFrame by adding a new cluster label column\n",
    "datamart_rfm_k3 = df.assign(Cluster=cluster_labels)\n",
    "\n",
    "# Group the data by cluster\n",
    "grouped = datamart_rfm_k3.groupby(['Cluster'])\n",
    "\n",
    "# Calculate average RFM values and segment sizes per cluster value\n",
    "grouped.agg({\n",
    "    'Recency': 'mean',\n",
    "    'Frequency': 'mean',\n",
    "    'MonetaryValue': ['mean', 'count']\n",
    "  }).round(1)"
   ]
  },
  {
   "cell_type": "markdown",
   "metadata": {},
   "source": [
    "## Elbow criterion method\n",
    "\n",
    "1. Plot the number of cluster against within-cluster sum-of-squared-errors(SSE)-\n",
    "   sum of squred distances from every data point to their center\n",
    "2. Identify an \"elbow\" in the plot\n",
    "3. Elbow - a point representing an \"optimal' number of clusters"
   ]
  },
  {
   "cell_type": "code",
   "execution_count": 98,
   "metadata": {},
   "outputs": [],
   "source": [
    "sse = {}\n",
    "# Fit KMeans and calculate SSE for each k\n",
    "for k in range(1, 21):\n",
    "  \n",
    "    # Initialize KMeans with k clusters\n",
    "    kmeans = KMeans(n_clusters=k, random_state=1)\n",
    "    \n",
    "    # Fit KMeans on the normalized dataset\n",
    "    kmeans.fit(datamart_normalized)\n",
    "    \n",
    "    # Assign sum of squared distances to k element of dictionary\n",
    "    sse[k] = kmeans.inertia_ "
   ]
  },
  {
   "cell_type": "code",
   "execution_count": null,
   "metadata": {
    "collapsed": true
   },
   "outputs": [],
   "source": [
    "datanormalized = np.array([[2.52708422e+02, 2.26887387e-01, 2.79783295e+02],\n",
    "       [6.34659445e+02, 3.75435617e+00, 2.09792134e-01],\n",
    "       [3.20225017e+02, 9.78334290e+01, 2.03873785e-01],\n",
    "       [1.42556813e+03, 1.63217832e+00, 1.20068758e+02],\n",
    "       [4.59116298e+02, 5.38109175e+00, 1.86682390e-01],\n",
    "       [4.30180615e+02, 2.91116438e-02, 2.10073960e-01],\n",
    "       [1.30596730e+03, 6.48155812e-02, 4.14397911e-01],\n",
    "       [1.16128889e+03, 9.83489927e-01, 2.26701702e-01],\n",
    "       [9.33661508e+02, 6.37759266e+00, 2.13455874e-01],\n",
    "       [7.23395541e+02, 1.40707883e+01, 3.86773691e+01],\n",
    "       [5.24703848e+02, 1.06993738e+01, 2.27547181e-01],\n",
    "       [7.13750313e+02, 9.16938263e-02, 6.04348728e-01],\n",
    "       [6.71311311e+02, 1.17424101e+01, 1.97673610e-01],\n",
    "       [8.70003005e+02, 8.56763087e-02, 2.89548931e-01],\n",
    "       [1.08412706e+03, 7.56471128e-02, 3.08385510e+00],\n",
    "       [6.67453220e+02, 4.24261963e-01, 4.08479562e-01],\n",
    "       [1.12656607e+03, 1.57441015e+00, 2.43893097e-01],\n",
    "       [1.46993618e+03, 2.84655556e-01, 1.78791258e-01],\n",
    "       [9.49093873e+02, 1.39396064e+01, 4.69917660e-01],\n",
    "       [1.26545735e+03, 1.06135868e-01, 1.83300477e-01],\n",
    "       [1.30018017e+03, 8.32693017e-02, 5.90821074e-01],\n",
    "       [5.96078534e+02, 5.85406863e+00, 2.01061539e+01],\n",
    "       [1.15164366e+03, 1.19775575e-01, 1.85273260e-01],\n",
    "       [1.10341752e+03, 1.29238916e+00, 1.79918563e-01],\n",
    "       [3.47231655e+02, 2.99498766e-01, 2.74048493e-01],\n",
    "       [4.53329162e+02, 4.53547215e-01, 1.66711510e+00],\n",
    "       [9.39448645e+02, 2.29695562e-01, 1.78791258e-01],\n",
    "       [1.94837055e+02, 5.09790316e+01, 1.86118738e-01],\n",
    "       [7.96699273e+02, 2.67405339e-01, 1.82454998e-01],\n",
    "       [1.21144407e+03, 2.53777037e+01, 8.64756081e-01],\n",
    "       [7.85125000e+02, 2.97207889e+00, 3.45914159e-01],\n",
    "       [1.17093411e+03, 1.26595428e-01, 1.17476483e+00],\n",
    "       [7.90912136e+02, 8.16646304e-02, 3.41105525e+00],\n",
    "       [5.84504260e+02, 5.34984286e-01, 2.30929094e-01],\n",
    "       [6.90601767e+02, 3.36826803e+01, 5.08425703e+00],\n",
    "       [1.44100049e+03, 2.69411178e-01, 2.04437437e-01],\n",
    "       [1.39084531e+03, 2.90673073e-01, 1.79636737e-01],\n",
    "       [1.01275238e+03, 3.75361683e-02, 8.17409289e-01],\n",
    "       [1.40241958e+03, 4.82030131e-01, 2.05001089e-01],\n",
    "       [1.06097852e+03, 3.31233221e-02, 6.28867602e-01],\n",
    "       [1.22687643e+03, 3.99431754e-02, 1.16103746e+02],\n",
    "       [3.18295972e+02, 5.14925894e-01, 1.78791258e-01],\n",
    "       [9.27874372e+02, 6.60190847e-02, 1.30243207e+00],\n",
    "       [1.05712042e+03, 2.43736436e-01, 1.84382009e+00],\n",
    "       [1.26352830e+03, 5.91992315e-02, 2.55729794e-01],\n",
    "       [7.85125000e+02, 4.53547215e-01, 3.10404065e-01],\n",
    "       [1.17479220e+03, 5.79957280e-02, 2.25574398e-01],\n",
    "       [1.14006938e+03, 8.04611269e-02, 2.12610395e-01],\n",
    "       [2.64282696e+02, 2.26085052e-01, 1.78791258e-01],\n",
    "       [1.31561253e+03, 2.81045045e-01, 1.83300477e-01],\n",
    "       [2.31488921e+02, 2.95128116e-02, 2.58517434e+01],\n",
    "       [8.29493048e+02, 2.77401811e+01, 2.72828565e+01],\n",
    "       [1.37927103e+03, 8.21975536e+00, 7.72035281e-01],\n",
    "       [7.54260270e+02, 1.39031631e-01, 6.61277608e-01],\n",
    "       [1.08026897e+03, 5.90742395e+00, 1.78791258e-01],\n",
    "       [2.10269420e+02, 5.67922245e-02, 2.12046743e-01],\n",
    "       [3.04792653e+02, 4.19490145e-02, 1.81609520e-01],\n",
    "       [5.59426668e+02, 6.37149069e+01, 5.96739422e-01],\n",
    "       [2.29559876e+02, 1.51467834e-01, 1.80200389e-01],\n",
    "       [8.89293460e+02, 2.35379480e+01, 9.17457569e-01],\n",
    "       [1.08991420e+03, 2.91116438e-02, 4.73565821e+02],\n",
    "       [7.25324587e+02, 5.59898888e-02, 1.90627956e-01],\n",
    "       [1.46414904e+03, 1.63502869e-01, 2.39665704e-01],\n",
    "       [1.36962581e+03, 5.51833335e-01, 4.76681487e-01],\n",
    "       [2.23772739e+02, 6.76237561e-02, 1.55072090e+00],\n",
    "       [4.24393478e+02, 1.06572933e+00, 1.78791258e-01],\n",
    "       [7.19537450e+02, 6.08039029e-02, 2.65875535e-01],\n",
    "       [9.16300098e+02, 3.71350005e-02, 1.25931268e+00],\n",
    "       [8.68073959e+02, 1.91183450e-01, 2.40511183e-01],\n",
    "       [4.80335800e+02, 2.77033367e-01, 4.14961563e-01],\n",
    "       [7.85125000e+02, 2.39323590e-01, 5.77119066e+01],\n",
    "       [1.32911585e+03, 2.35713080e-01, 4.19481374e+00],\n",
    "       [5.01555301e+02, 2.84254388e-01, 1.82736824e-01],\n",
    "       [1.43135527e+03, 1.84479727e+00, 8.06625941e+00],\n",
    "       [7.36898860e+02, 5.87980637e-02, 1.81891346e-01],\n",
    "       [9.87674784e+02, 9.89148473e-02, 2.96830638e+00],\n",
    "       [7.19537450e+02, 2.69406958e+00, 1.39279613e+01],\n",
    "       [1.44485858e+03, 1.03868640e+01, 5.27973845e-01],\n",
    "       [3.49160701e+02, 2.25683884e-01, 4.54690973e+01],\n",
    "       [6.50091810e+02, 2.47522831e+01, 3.74660425e-01],\n",
    "       [8.52641594e+02, 5.67922245e-02, 3.29568243e-01],\n",
    "       [1.31175444e+03, 5.22146915e-01, 6.86360135e-01],\n",
    "       [5.47852395e+02, 4.59965900e-01, 1.78791258e-01],\n",
    "       [7.63905498e+02, 4.47571894e-02, 5.35545007e+03],\n",
    "       [4.72619617e+02, 4.91700356e-02, 2.56011621e-01],\n",
    "       [1.52202041e+03, 3.25173507e-01, 1.79354911e-01],\n",
    "       [8.00557364e+02, 8.48739731e-02, 1.78791258e-01],\n",
    "       [8.93151551e+02, 2.39319371e+00, 2.78557712e-01],\n",
    "       [6.69382265e+02, 1.54276009e-01, 4.64281137e-01],\n",
    "       [1.07062374e+03, 5.35828818e-02, 2.69539275e-01],\n",
    "       [1.26931544e+03, 5.87938440e-01, 2.29801790e-01],\n",
    "       [1.08605611e+03, 2.68484272e+00, 7.26661273e-01],\n",
    "       [1.05712042e+03, 1.14435823e+00, 1.36020643e+00],\n",
    "       [1.17286316e+03, 6.77153947e+00, 1.81327694e-01],\n",
    "       [1.31561253e+03, 8.96191586e+00, 5.68708314e+00],\n",
    "       [4.68761526e+02, 6.36120777e-02, 2.50093272e-01],\n",
    "       [6.88672721e+02, 3.68418770e+01, 1.97673610e-01],\n",
    "       [3.29870245e+02, 6.45706609e-01, 4.72323775e+00],\n",
    "       [3.26012154e+02, 1.53589804e+00, 3.99358987e+00],\n",
    "       [8.21776865e+02, 6.40132456e-02, 1.82454998e-01]])"
   ]
  },
  {
   "cell_type": "code",
   "execution_count": 99,
   "metadata": {},
   "outputs": [
    {
     "data": {
      "image/png": "[encoded data removed]",
      "text/plain": [
       "<matplotlib.figure.Figure at 0x196232e3470>"
      ]
     },
     "metadata": {},
     "output_type": "display_data"
    }
   ],
   "source": [
    "# Add the plot title \"The Elbow Method\"\n",
    "plt.title('The Elbow Method')\n",
    "\n",
    "# Add X-axis label \"k\"\n",
    "plt.xlabel('k')\n",
    "\n",
    "# Add Y-axis label \"SSE\"\n",
    "plt.ylabel('SSE')\n",
    "\n",
    "# Plot SSE values for each key in the dictionary\n",
    "sns.pointplot(x=list(sse.keys()), y=list(sse.values()))\n",
    "plt.show()"
   ]
  },
  {
   "cell_type": "code",
   "execution_count": 100,
   "metadata": {
    "collapsed": true
   },
   "outputs": [],
   "source": [
    "# Melt the normalized dataset and reset the index\n",
    "datamart_melt = pd.melt(datamart_normalized.reset_index(), \n",
    "                        \n",
    "# Assign CustomerID and Cluster as ID variables                  \n",
    "                    id_vars=['CustomerID', 'Cluster'],\n",
    "\n",
    "# Assign RFM values as value variables\n",
    "                    value_vars=['Recency', 'Frequency', 'MonetaryValue'], \n",
    "                        \n",
    "# Name the variable and value\n",
    "                    var_name='Metric', value_name='Value')"
   ]
  },
  {
   "cell_type": "code",
   "execution_count": 101,
   "metadata": {},
   "outputs": [
    {
     "ename": "AttributeError",
     "evalue": "module 'seaborn' has no attribute 'lineplot'",
     "output_type": "error",
     "traceback": [
      "\u001b[1;31m---------------------------------------------------------------------------\u001b[0m",
      "\u001b[1;31mAttributeError\u001b[0m                            Traceback (most recent call last)",
      "\u001b[1;32m<ipython-input-101-d1201856800e>\u001b[0m in \u001b[0;36m<module>\u001b[1;34m()\u001b[0m\n\u001b[0;32m      9\u001b[0m \u001b[1;33m\u001b[0m\u001b[0m\n\u001b[0;32m     10\u001b[0m \u001b[1;31m# Plot a line for each value of the cluster variable\u001b[0m\u001b[1;33m\u001b[0m\u001b[1;33m\u001b[0m\u001b[0m\n\u001b[1;32m---> 11\u001b[1;33m \u001b[0msns\u001b[0m\u001b[1;33m.\u001b[0m\u001b[0mlineplot\u001b[0m\u001b[1;33m(\u001b[0m\u001b[0mdata\u001b[0m\u001b[1;33m=\u001b[0m\u001b[0mdatamart_melt\u001b[0m\u001b[1;33m,\u001b[0m \u001b[0mx\u001b[0m\u001b[1;33m=\u001b[0m\u001b[1;34m'Metric'\u001b[0m\u001b[1;33m,\u001b[0m \u001b[0my\u001b[0m\u001b[1;33m=\u001b[0m\u001b[1;34m'Value'\u001b[0m\u001b[1;33m,\u001b[0m \u001b[0mhue\u001b[0m\u001b[1;33m=\u001b[0m\u001b[1;34m'Cluster'\u001b[0m\u001b[1;33m)\u001b[0m\u001b[1;33m\u001b[0m\u001b[0m\n\u001b[0m\u001b[0;32m     12\u001b[0m \u001b[0mplt\u001b[0m\u001b[1;33m.\u001b[0m\u001b[0mshow\u001b[0m\u001b[1;33m(\u001b[0m\u001b[1;33m)\u001b[0m\u001b[1;33m\u001b[0m\u001b[0m\n",
      "\u001b[1;31mAttributeError\u001b[0m: module 'seaborn' has no attribute 'lineplot'"
     ]
    },
    {
     "data": {
      "image/png": "[encoded data removed]",
      "text/plain": [
       "<matplotlib.figure.Figure at 0x196235f98d0>"
      ]
     },
     "metadata": {},
     "output_type": "display_data"
    }
   ],
   "source": [
    "# Add the plot title\n",
    "plt.title('Snake plot of normalized variables')\n",
    "\n",
    "# Add the x axis label\n",
    "plt.xlabel('Metric')\n",
    "\n",
    "# Add the y axis label\n",
    "plt.ylabel('Value')\n",
    "\n",
    "# Plot a line for each value of the cluster variable\n",
    "sns.lineplot(data=datamart_melt, x='Metric', y='Value', hue='Cluster')\n",
    "plt.show()"
   ]
  },
  {
   "cell_type": "code",
   "execution_count": 77,
   "metadata": {},
   "outputs": [
    {
     "data": {
      "text/html": [
       "<div>\n",
       "<style>\n",
       "    .dataframe thead tr:only-child th {\n",
       "        text-align: right;\n",
       "    }\n",
       "\n",
       "    .dataframe thead th {\n",
       "        text-align: left;\n",
       "    }\n",
       "\n",
       "    .dataframe tbody tr th {\n",
       "        vertical-align: top;\n",
       "    }\n",
       "</style>\n",
       "<table border=\"1\" class=\"dataframe\">\n",
       "  <thead>\n",
       "    <tr style=\"text-align: right;\">\n",
       "      <th></th>\n",
       "      <th>CustomerID</th>\n",
       "      <th>Cluster</th>\n",
       "      <th>Metric</th>\n",
       "      <th>Value</th>\n",
       "    </tr>\n",
       "  </thead>\n",
       "  <tbody>\n",
       "    <tr>\n",
       "      <th>0</th>\n",
       "      <td>-1.914291</td>\n",
       "      <td>NaN</td>\n",
       "      <td>Recency</td>\n",
       "      <td>-2.002202</td>\n",
       "    </tr>\n",
       "    <tr>\n",
       "      <th>1</th>\n",
       "      <td>-1.913516</td>\n",
       "      <td>NaN</td>\n",
       "      <td>Recency</td>\n",
       "      <td>-2.814518</td>\n",
       "    </tr>\n",
       "    <tr>\n",
       "      <th>2</th>\n",
       "      <td>-1.912742</td>\n",
       "      <td>NaN</td>\n",
       "      <td>Recency</td>\n",
       "      <td>-1.789490</td>\n",
       "    </tr>\n",
       "    <tr>\n",
       "      <th>3</th>\n",
       "      <td>-1.857877</td>\n",
       "      <td>NaN</td>\n",
       "      <td>Recency</td>\n",
       "      <td>-1.789490</td>\n",
       "    </tr>\n",
       "    <tr>\n",
       "      <th>4</th>\n",
       "      <td>-1.856336</td>\n",
       "      <td>NaN</td>\n",
       "      <td>Recency</td>\n",
       "      <td>0.337315</td>\n",
       "    </tr>\n",
       "  </tbody>\n",
       "</table>\n",
       "</div>"
      ],
      "text/plain": [
       "   CustomerID  Cluster   Metric     Value\n",
       "0   -1.914291      NaN  Recency -2.002202\n",
       "1   -1.913516      NaN  Recency -2.814518\n",
       "2   -1.912742      NaN  Recency -1.789490\n",
       "3   -1.857877      NaN  Recency -1.789490\n",
       "4   -1.856336      NaN  Recency  0.337315"
      ]
     },
     "execution_count": 77,
     "metadata": {},
     "output_type": "execute_result"
    }
   ],
   "source": [
    "datamart_melt.head()"
   ]
  },
  {
   "cell_type": "code",
   "execution_count": 75,
   "metadata": {},
   "outputs": [
    {
     "name": "stdout",
     "output_type": "stream",
     "text": [
      "         CustomerID  Recency  Frequency  MonetaryValue\n",
      "Cluster                                               \n",
      "0             -0.10     0.38      -0.63          -0.64\n",
      "1              0.00    -0.71       1.15           1.22\n",
      "2              0.08     0.43      -0.68          -0.75\n"
     ]
    }
   ],
   "source": [
    "# Calculate average RFM values for each cluster\n",
    "cluster_avg = datamart_rfm_k3.groupby(['Cluster']).mean() \n",
    "\n",
    "# Calculate average RFM values for the total customer population\n",
    "population_avg = df.mean()\n",
    "\n",
    "# Calculate relative importance of cluster's attribute value compared to population\n",
    "relative_imp = cluster_avg / population_avg - 1\n",
    "\n",
    "# Print relative importance score rounded to 2 decimals\n",
    "print(relative_imp.round(2))"
   ]
  },
  {
   "cell_type": "code",
   "execution_count": 76,
   "metadata": {},
   "outputs": [
    {
     "data": {
      "image/png": "[encoded data removed]",
      "text/plain": [
       "<matplotlib.figure.Figure at 0x1962336fc88>"
      ]
     },
     "metadata": {},
     "output_type": "display_data"
    }
   ],
   "source": [
    "# Initialize a plot with a figure size of 8 by 2 inches \n",
    "plt.figure(figsize=(8, 2))\n",
    "\n",
    "# Add the plot title\n",
    "plt.title('Relative importance of attributes')\n",
    "\n",
    "# Plot the heatmap\n",
    "sns.heatmap(data=relative_imp, annot=True, fmt='.2f', cmap='RdYlGn')\n",
    "plt.show()"
   ]
  },
  {
   "cell_type": "code",
   "execution_count": null,
   "metadata": {
    "collapsed": true
   },
   "outputs": [],
   "source": []
  }
 ],
 "metadata": {
  "kernelspec": {
   "display_name": "Python 3",
   "language": "python",
   "name": "python3"
  },
  "language_info": {
   "codemirror_mode": {
    "name": "ipython",
    "version": 3
   },
   "file_extension": ".py",
   "mimetype": "text/x-python",
   "name": "python",
   "nbconvert_exporter": "python",
   "pygments_lexer": "ipython3",
   "version": "3.6.1"
  }
 },
 "nbformat": 4,
 "nbformat_minor": 2
}
